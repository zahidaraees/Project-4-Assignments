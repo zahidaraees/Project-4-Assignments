{
  "nbformat": 4,
  "nbformat_minor": 0,
  "metadata": {
    "colab": {
      "provenance": [],
      "authorship_tag": "ABX9TyPmryRGb4lYXSJXOwHY5I4n",
      "include_colab_link": true
    },
    "kernelspec": {
      "name": "python3",
      "display_name": "Python 3"
    },
    "language_info": {
      "name": "python"
    }
  },
  "cells": [
    {
      "cell_type": "markdown",
      "metadata": {
        "id": "view-in-github",
        "colab_type": "text"
      },
      "source": [
        "<a href=\"https://colab.research.google.com/github/zahidaraees/Project-4-Assignments/blob/main/online_class_projects_02_intermediate_Control_Flow_for_Console.ipynb\" target=\"_parent\"><img src=\"https://colab.research.google.com/assets/colab-badge.svg\" alt=\"Open In Colab\"/></a>"
      ]
    },
    {
      "cell_type": "code",
      "execution_count": 1,
      "metadata": {
        "colab": {
          "base_uri": "https://localhost:8080/"
        },
        "id": "3CaqNOFQUuA8",
        "outputId": "6568d640-0e83-49c8-c34d-bccfe281b7b9"
      },
      "outputs": [
        {
          "output_type": "stream",
          "name": "stdout",
          "text": [
            "Welcome to the High-Low Game!\n",
            "--------------------------------\n",
            "Round 1\n",
            "Your number is 97\n",
            "Do you think your number is higher or lower than the computer's?: yes\n",
            "Please enter either 'higher' or 'lower'.\n",
            "Do you think your number is higher or lower than the computer's?: higher \n",
            "You were right! The computer's number was 5\n",
            "Your score is now 1\n",
            "\n",
            "Round 2\n",
            "Your number is 95\n",
            "Do you think your number is higher or lower than the computer's?: lower\n",
            "Aww, that's incorrect. The computer's number was 21\n",
            "Your score is now 1\n",
            "\n",
            "Round 3\n",
            "Your number is 91\n",
            "Do you think your number is higher or lower than the computer's?: higher\n",
            "You were right! The computer's number was 9\n",
            "Your score is now 2\n",
            "\n",
            "Round 4\n",
            "Your number is 56\n",
            "Do you think your number is higher or lower than the computer's?: higher\n",
            "You were right! The computer's number was 32\n",
            "Your score is now 3\n",
            "\n",
            "Round 5\n",
            "Your number is 19\n",
            "Do you think your number is higher or lower than the computer's?: higher\n",
            "You were right! The computer's number was 8\n",
            "Your score is now 4\n",
            "\n",
            "Thanks for playing!\n",
            "Your final score is 4\n",
            "Good job, you played really well!\n"
          ]
        }
      ],
      "source": [
        "\"\"\"\n",
        "PROJECTS/online_class_projects/02_intermediate/Control Flow for Console/handout.md\n",
        "We want you to gain more experience working with control flow and Booleans in Python. To do this, we are going to have you develop a game! The game is called High-Low and the way it's played goes as follows:\n",
        "\n",
        "Two numbers are generated from 1 to 100 (inclusive on both ends): one for you and one for a computer, who will be your opponent. You can see your number, but not the computer's!\n",
        "\n",
        "You make a guess, saying your number is either higher than or lower than the computer's number\n",
        "\n",
        "If your guess matches the truth (ex. you guess your number is higher, and then your number is actually higher than the computer's), you get a point!\n",
        "\n",
        "These steps make up one round of the game. The game is over after all rounds have been played.\n",
        "\n",
        "We've provided a sample run below.\n",
        "\"\"\"\n",
        "import random\n",
        "\n",
        "# Constants\n",
        "NUM_ROUNDS = 5  # Number of rounds to play\n",
        "\n",
        "def play_game():\n",
        "    score = 0\n",
        "\n",
        "    print(\"Welcome to the High-Low Game!\")\n",
        "    print(\"--------------------------------\")\n",
        "\n",
        "    for round_num in range(1, NUM_ROUNDS + 1):\n",
        "        # Milestone #1: Generate random numbers\n",
        "        player_number = random.randint(1, 100)\n",
        "        computer_number = random.randint(1, 100)\n",
        "\n",
        "        # Milestone #2: Get user choice\n",
        "        print(f\"Round {round_num}\")\n",
        "        print(f\"Your number is {player_number}\")\n",
        "        guess = input(\"Do you think your number is higher or lower than the computer's?: \").strip().lower()\n",
        "\n",
        "        # Milestone #3: Write the game logic\n",
        "        while guess not in ['higher', 'lower']:  # Safeguard input\n",
        "            print(\"Please enter either 'higher' or 'lower'.\")\n",
        "            guess = input(\"Do you think your number is higher or lower than the computer's?: \").strip().lower()\n",
        "\n",
        "        # Determine if the guess was correct\n",
        "        if (guess == \"higher\" and player_number > computer_number) or (guess == \"lower\" and player_number < computer_number):\n",
        "            print(f\"You were right! The computer's number was {computer_number}\")\n",
        "            score += 1\n",
        "        else:\n",
        "            print(f\"Aww, that's incorrect. The computer's number was {computer_number}\")\n",
        "\n",
        "        # Print score after each round\n",
        "        print(f\"Your score is now {score}\")\n",
        "        print()  # Blank line for visual separation\n",
        "\n",
        "    # Milestone #5: Adding a points system\n",
        "    print(\"Thanks for playing!\")\n",
        "    print(f\"Your final score is {score}\")\n",
        "\n",
        "    # Extension #2: Conditional ending messages\n",
        "    if score == NUM_ROUNDS:\n",
        "        print(\"Wow! You played perfectly!\")\n",
        "    elif score >= NUM_ROUNDS // 2:\n",
        "        print(\"Good job, you played really well!\")\n",
        "    else:\n",
        "        print(\"Better luck next time!\")\n",
        "\n",
        "# Run the game\n",
        "play_game()\n"
      ]
    }
  ]
}