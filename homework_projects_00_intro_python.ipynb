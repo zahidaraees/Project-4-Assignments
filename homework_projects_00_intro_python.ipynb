{
  "nbformat": 4,
  "nbformat_minor": 0,
  "metadata": {
    "colab": {
      "provenance": [],
      "authorship_tag": "ABX9TyMpCrpEq7AvESKdWXRQrNM0",
      "include_colab_link": true
    },
    "kernelspec": {
      "name": "python3",
      "display_name": "Python 3"
    },
    "language_info": {
      "name": "python"
    }
  },
  "cells": [
    {
      "cell_type": "markdown",
      "metadata": {
        "id": "view-in-github",
        "colab_type": "text"
      },
      "source": [
        "<a href=\"https://colab.research.google.com/github/zahidaraees/Project-4-Assignments/blob/main/homework_projects_00_intro_python.ipynb\" target=\"_parent\"><img src=\"https://colab.research.google.com/assets/colab-badge.svg\" alt=\"Open In Colab\"/></a>"
      ]
    },
    {
      "cell_type": "code",
      "execution_count": 3,
      "metadata": {
        "colab": {
          "base_uri": "https://localhost:8080/"
        },
        "id": "2SpeTi9gAn22",
        "outputId": "1f7ac8f4-04d3-4acd-c9c2-eeba068b3762"
      },
      "outputs": [
        {
          "output_type": "stream",
          "name": "stdout",
          "text": [
            "This program adds two numbers.\n",
            "Enter first number: 12\n",
            "Enter second number: 12\n",
            "The total is 24.\n"
          ]
        }
      ],
      "source": [
        "\"\"\"\n",
        "Program: add2numbers\n",
        "--------------------\n",
        "This program asks the user for two integers and prints their sum.\n",
        "\"\"\"\n",
        "\n",
        "\n",
        "def main():\n",
        "    print(\"This program adds two numbers.\")\n",
        "    num1 : str = input(\"Enter first number: \")\n",
        "    num1 : int = int(num1)\n",
        "    num2  : str = input(\"Enter second number: \")\n",
        "    num2 : int = int(num2)\n",
        "    total : int = num1 + num2\n",
        "    print(\"The total is \" + str(total) + \".\")\n",
        "\n",
        "\n",
        "# This provided line is required at the end of\n",
        "# Python file to call the main() function.\n",
        "if __name__ == '__main__':\n",
        "    main()\n",
        ""
      ]
    },
    {
      "cell_type": "code",
      "source": [
        "'''\n",
        "Write a program which asks the user what their favorite animal is, and then always responds with \"My favorite animal is also ___!\" (the blank should be filled in with the user-inputted animal, of course).\n",
        "\n",
        "Here's a sample run of the program (user input is in bold italics - note the space between the prompt and the user input!):\n",
        "\n",
        "What's your favorite animal? cow\n",
        "\n",
        "My favorite animal is also cow!\n",
        "'''\n",
        "from IPython.display import display, HTML\n",
        "\n",
        "def main():\n",
        "    # Ask for user input\n",
        "    fav_animal = input(\"What's your favorite animal? \")\n",
        "\n",
        "    # Format the response using HTML for bold and italic in Google Colab\n",
        "    response = f\"My favorite animal is also <b><i>{fav_animal}</i></b> !\"\n",
        "\n",
        "    # Display the formatted response\n",
        "    display(HTML(response))\n",
        "\n",
        "# This provided line is required at the end of Python file to call the main() function.\n",
        "if __name__ == '__main__':\n",
        "    main()\n"
      ],
      "metadata": {
        "colab": {
          "base_uri": "https://localhost:8080/",
          "height": 52
        },
        "id": "WpvfxJ_yDNd_",
        "outputId": "5d92f684-fe46-485c-8b50-b916475cf2e2"
      },
      "execution_count": 5,
      "outputs": [
        {
          "name": "stdout",
          "output_type": "stream",
          "text": [
            "What's your favorite animal? Cat\n"
          ]
        },
        {
          "output_type": "display_data",
          "data": {
            "text/plain": [
              "<IPython.core.display.HTML object>"
            ],
            "text/html": [
              "My favorite animal is also <b><i>Cat</i></b> !"
            ]
          },
          "metadata": {}
        }
      ]
    },
    {
      "cell_type": "code",
      "source": [
        "\"\"\"a program which prompts the user for a temperature in Fahrenheit (this can be a number with decimal places!) and outputs the temperature converted to Celsius.\"\"\"\n",
        "def tempreature():\n",
        "    print(\"This program prompts the user for a temperature in Fahrenheit \")\n",
        "    temp_Farhenheit : str = input(\"Enter temperature in Fahrenheit \")\n",
        "\n",
        "    temp_Farhenheit : int = int(temp_Farhenheit)\n",
        "    # here is the formula C = (°F − 32) × 5/9.\n",
        "\n",
        "    temp_Celsius: int = (temp_Farhenheit -32) * 5/9\n",
        "    print(f\"Temperature:{temp_Farhenheit} = {temp_Celsius} C\")\n",
        "\n",
        "\n",
        "# This provided line is required at the end of\n",
        "# Python file to call the main() function.\n",
        "if __name__ == '__main__':\n",
        "    tempreature()"
      ],
      "metadata": {
        "colab": {
          "base_uri": "https://localhost:8080/"
        },
        "id": "4QU8oz38ERqq",
        "outputId": "05aa8ac6-d93f-4c2d-b250-1bb05fa80389"
      },
      "execution_count": 9,
      "outputs": [
        {
          "output_type": "stream",
          "name": "stdout",
          "text": [
            "This program prompts the user for a temperature in Fahrenheit \n",
            "Enter temperature in Fahrenheit 90\n",
            "Temperature:90 = 32.22222222222222 C\n"
          ]
        }
      ]
    },
    {
      "cell_type": "code",
      "source": [
        "\"\"\"Write a program to solve this age-related riddle!\n",
        "\n",
        "Anton, Beth, Chen, Drew, and Ethan are all friends. Their ages are as follows:\n",
        "\n",
        "Anton is 21 years old.\n",
        "\n",
        "Beth is 6 years older than Anton.\n",
        "\n",
        "\n",
        "\n",
        "Drew is as old as Chen's age plus Anton's age.\n",
        "\n",
        "Ethan is the same age as Chen.\"\"\"\n",
        "def main():\n",
        "    anton : int = 21  # Anton's age is given as 21 years old\n",
        "    beth : int = 6 + anton  # Beth is 6 years older than Anton, so add 6 to Anton's age to get Beth's\n",
        "    chen : int = 20 + beth  # Chen is 20 years older than Beth, so add 20 to Beth's age to get Chen's\n",
        "    drew  : int= chen + anton  # Drew is as old as Chen's age plus Anton's age, so add them together\n",
        "    ethan : int = chen  # Ethan is the same age as Chen, so set Ethan's age equal to Chen's\n",
        "\n",
        "   # Print out all of the ages!\n",
        "    print(\"Anton, Beth, Chen, Drew, and Ethan are all friends. Their ages are as follows:\")\n",
        "    print(\"Anton is \" + str(anton)+\" old\")\n",
        "    print(\"Beth is \" + str(beth)+\" now and he is 6 years older than Anton\")\n",
        "    print(\"Chen is \" + str(chen)+\" old while Chen is 20 years older than Beth.\")\n",
        "    print(\"Drew is \" + str(drew)+\" old and Drew is as old as Chen\")\n",
        "    print(\"Ethan is \" + str(ethan)+\" old and Ethan is the same age as Chen\")\n",
        "\n",
        "\n",
        "# There is no need to edit code beyond this point\n",
        "\n",
        "if __name__ == '__main__':\n",
        "    main()"
      ],
      "metadata": {
        "colab": {
          "base_uri": "https://localhost:8080/"
        },
        "id": "NzbhDH35E5Ns",
        "outputId": "a3bcbab1-5bd9-46b2-fdca-dc8ee718ae90"
      },
      "execution_count": 15,
      "outputs": [
        {
          "output_type": "stream",
          "name": "stdout",
          "text": [
            "Anton, Beth, Chen, Drew, and Ethan are all friends. Their ages are as follows:\n",
            "Anton is 21 old\n",
            "Beth is 27 now and he is 6 years older than Anton\n",
            "Chen is 47 old while Chen is 20 years older than Beth.\n",
            "Drew is 68 old and Drew is as old as Chen\n",
            "Ethan is 47 old and Ethan is the same age as Chen\n"
          ]
        }
      ]
    },
    {
      "cell_type": "code",
      "source": [
        "\"\"\"Prompt the user to enter the lengths of each side of a triangle and then calculate and print the perimeter of the triangle (the sum of all of the side lengths).\n",
        "\n",
        "Here's a sample run of the program (user input is in bold italics):\n",
        "\n",
        "What is the length of side 1? 3\n",
        "\n",
        "What is the length of side 2? 4\n",
        "\n",
        "What is the length of side 3? 5.5\n",
        "\n",
        "The perimeter of the triangle is 12.5 \"\"\"\n",
        "from IPython.display import display, HTML\n",
        "\n",
        "def main():\n",
        "    # Get the 3 side lengths of the triangle\n",
        "    side1: float = float(input(\"What is the length of side 1? \"))\n",
        "    side2: float = float(input(\"What is the length of side 2? \"))\n",
        "    side3: float = float(input(\"What is the length of side 3? \"))\n",
        "\n",
        "    # Format the input values in bold and italic\n",
        "    side1_display = f\"<b><i>{side1}</i></b>\"\n",
        "    side2_display = f\"<b><i>{side2}</i></b>\"\n",
        "    side3_display = f\"<b><i>{side3}</i></b>\"\n",
        "\n",
        "    # Print out the perimeter with formatted inputs\n",
        "    perimeter = side1 + side2 + side3\n",
        "    print(f\"The perimeter of the triangle is {perimeter}\")\n",
        "\n",
        "    # Display user inputs with formatting in Colab\n",
        "    display(HTML(f\"\"\"\n",
        "        <p>The length of side 1? {side1_display}</p>\n",
        "        <p>The length of side 2? {side2_display}</p>\n",
        "        <p>The length of side 3? {side3_display}</p>\n",
        "        <p>The perimeter of the triangle is <b><i>{perimeter}</i></b></p>\n",
        "    \"\"\"))\n",
        "\n",
        "# There is no need to edit code beyond this point\n",
        "\n",
        "if __name__ == '__main__':\n",
        "    main()\n"
      ],
      "metadata": {
        "colab": {
          "base_uri": "https://localhost:8080/",
          "height": 186
        },
        "id": "YvIid-JFJ9QK",
        "outputId": "7c9e6b76-b5c0-458f-a7bf-5b17713286d3"
      },
      "execution_count": 19,
      "outputs": [
        {
          "output_type": "stream",
          "name": "stdout",
          "text": [
            "What is the length of side 1? 3\n",
            "What is the length of side 2? 4\n",
            "What is the length of side 3? 5.5\n",
            "The perimeter of the triangle is 12.5\n"
          ]
        },
        {
          "output_type": "display_data",
          "data": {
            "text/plain": [
              "<IPython.core.display.HTML object>"
            ],
            "text/html": [
              "\n",
              "        <p>The length of side 1? <b><i>3.0</i></b></p>\n",
              "        <p>The length of side 2? <b><i>4.0</i></b></p>\n",
              "        <p>The length of side 3? <b><i>5.5</i></b></p>\n",
              "        <p>The perimeter of the triangle is <b><i>12.5</i></b></p>\n",
              "    "
            ]
          },
          "metadata": {}
        }
      ]
    },
    {
      "cell_type": "code",
      "source": [
        "\"\"\"\n",
        "PROJECTS/homework_projects/00_intro_python/06_square_number\n",
        "Ask the user for a number and print its square (the product of the number times itself).\n",
        "\n",
        "Here's a sample run of the program (user input is in bold italics):\n",
        "\n",
        "Type a number to see its square: 4\n",
        "\n",
        "4.0 squared is 16.0\n",
        "\"\"\"\n",
        "from IPython.display import display, HTML\n",
        "\n",
        "def main():\n",
        "    # Ask the user for a number\n",
        "    num: float = float(input(\"Type a number to see its square: \"))  # Cast the input to a float for math operations\n",
        "\n",
        "    # Format the input and result in bold and italic\n",
        "    num_display = f\"<b><i>{num}</i></b>\"\n",
        "    result = num ** 2\n",
        "    result_display = f\"<b><i>{result}</i></b>\"\n",
        "\n",
        "    # Print the result\n",
        "    print(f\"{num} squared is {result}\")\n",
        "\n",
        "    # Display the input and result in bold and italic in Colab\n",
        "    display(HTML(f\"\"\"\n",
        "        <p>Type a number to see its square: {num_display}</p>\n",
        "        <p>{num_display} squared is {result_display}</p>\n",
        "    \"\"\"))\n",
        "\n",
        "# There is no need to edit code beyond this point\n",
        "\n",
        "if __name__ == '__main__':\n",
        "    main()\n"
      ],
      "metadata": {
        "colab": {
          "base_uri": "https://localhost:8080/",
          "height": 104
        },
        "id": "agiejqsbMqdg",
        "outputId": "d5198e6e-a5d1-41c9-d4c8-c27e4f815b84"
      },
      "execution_count": 23,
      "outputs": [
        {
          "output_type": "stream",
          "name": "stdout",
          "text": [
            "Type a number to see its square: 4\n",
            "4.0 squared is 16.0\n"
          ]
        },
        {
          "output_type": "display_data",
          "data": {
            "text/plain": [
              "<IPython.core.display.HTML object>"
            ],
            "text/html": [
              "\n",
              "        <p>Type a number to see its square: <b><i>4.0</i></b></p>\n",
              "        <p><b><i>4.0</i></b> squared is <b><i>16.0</i></b></p>\n",
              "    "
            ]
          },
          "metadata": {}
        }
      ]
    },
    {
      "cell_type": "code",
      "source": [],
      "metadata": {
        "id": "Ec2ZKiLdHtjs"
      },
      "execution_count": null,
      "outputs": []
    }
  ]
}