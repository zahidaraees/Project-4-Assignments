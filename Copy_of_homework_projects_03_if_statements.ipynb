{
  "nbformat": 4,
  "nbformat_minor": 0,
  "metadata": {
    "colab": {
      "provenance": [],
      "authorship_tag": "ABX9TyN6pjvfhyB1F5HK0TGFCtxc",
      "include_colab_link": true
    },
    "kernelspec": {
      "name": "python3",
      "display_name": "Python 3"
    },
    "language_info": {
      "name": "python"
    }
  },
  "cells": [
    {
      "cell_type": "markdown",
      "metadata": {
        "id": "view-in-github",
        "colab_type": "text"
      },
      "source": [
        "<a href=\"https://colab.research.google.com/github/zahidaraees/Project-4-Assignments/blob/main/Copy_of_homework_projects_03_if_statements.ipynb\" target=\"_parent\"><img src=\"https://colab.research.google.com/assets/colab-badge.svg\" alt=\"Open In Colab\"/></a>"
      ]
    },
    {
      "cell_type": "code",
      "execution_count": null,
      "metadata": {
        "colab": {
          "base_uri": "https://localhost:8080/"
        },
        "id": "KdJqN3u0JjqE",
        "outputId": "0da06c8a-31be-4a6a-eb29-f41c32fb0e71"
      },
      "outputs": [
        {
          "output_type": "stream",
          "name": "stdout",
          "text": [
            "0\n",
            "2\n",
            "4\n",
            "6\n",
            "8\n",
            "10\n",
            "12\n",
            "14\n",
            "16\n",
            "18\n",
            "20\n",
            "22\n",
            "24\n",
            "26\n",
            "28\n",
            "30\n",
            "32\n",
            "34\n",
            "36\n",
            "38\n"
          ]
        }
      ],
      "source": [
        "\"\"\"\n",
        "PROJECTS/homework_projects/03_if_statements/01_print_events.md\n",
        "Write a program that prints the first 20 even numbers. There are several correct approaches, but they all use a loop of some sort. Do no write twenty print statements\n",
        "\n",
        "The first even number is 0:\n",
        "\n",
        "0 2 4 6 8 10 12 14 16 18 20 22 24 26 28 30 32 34 36 38\n",
        "\"\"\"\n",
        "def main():\n",
        "    # This for-loop start at 0 and counts up to 19 (for a total of 20 numbers)\n",
        "    for i in range(20):\n",
        "        print(i * 2)  # Use the 'i' value inside the for-loop\n",
        "\n",
        "# Call the main function when \"run\", no need to edit anything below!\n",
        "if __name__ == \"__main__\":\n",
        "    main()\n"
      ]
    },
    {
      "cell_type": "code",
      "source": [
        "\"\"\"\n",
        " PROJECTS/homework_projects/03_if_statements/02_international_voting_age.md\n",
        "Write a program which asks a user for their age and lets them know if they can or can't vote in the following three fictional countries.\n",
        "\n",
        "Around the world, different countries have different voting ages. In the fictional countries of Peturksbouipo, Stanlau, and Mayengua, the voting ages are very different:\n",
        "\n",
        "the voting age in Peturksbouipo is 16 (in real life, this is the voting age in, for example, Scotland, Ethiopia, and Austria)\n",
        "\n",
        "the voting age in Stanlau is 25 (in real life this is the voting age in the United Arab Emirates)\n",
        "\n",
        "the voting age in Mayengua is 48 (in real life, as far as we can tell, this isn't the voting age anywhere)\n",
        "\n",
        "Your code should prompt the for their age and print whether or not they can vote in Peturksbouipo, Stanlau, or Mayengua.\n",
        "\n",
        "Here's a sample run of the program (user input is in blue):\n",
        "\n",
        "How old are you? 20 You can vote in Peturksbouipo where the voting age is 16. You cannot vote in Stanlau where the voting age is 25. You cannot vote in Mayengua where the voting age is 48.\n",
        "\n",
        "\n",
        "\"\"\"\n",
        "PETURKSBOUIPO_AGE : int = 16\n",
        "STANLAU_AGE : int = 25\n",
        "MAYENGUA_AGE : int = 48\n",
        "\n",
        "def main():\n",
        "    # Get the user's age\n",
        "    user_age = int(input(\"How old are you? \"))\n",
        "\n",
        "    # Check if the user can vote in Peturksbouipo\n",
        "    if user_age >= PETURKSBOUIPO_AGE:\n",
        "        print(\"You can vote in Peturksbouipo where the voting age is \" + str(PETURKSBOUIPO_AGE) + \".\")\n",
        "    else:\n",
        "        print(\"You cannot vote in Peturksbouipo where the voting age is \" + str(PETURKSBOUIPO_AGE) + \".\")\n",
        "\n",
        "    # Check if the user can vote in Stanlau\n",
        "    if user_age >= STANLAU_AGE:\n",
        "        print(\"You can vote in Stanlau where the voting age is \" + str(STANLAU_AGE) + \".\")\n",
        "    else:\n",
        "        print(\"You cannot vote in Stanlau where the voting age is \" + str(STANLAU_AGE) + \".\")\n",
        "\n",
        "    # Check if user can vote in Mayengua\n",
        "    if user_age >= MAYENGUA_AGE:\n",
        "        print(\"You can vote in Mayengua where the voting age is \" + str(MAYENGUA_AGE) + \".\")\n",
        "    else:\n",
        "        print(\"You cannot vote in Mayengua where the voting age is \" + str(MAYENGUA_AGE) + \".\")\n",
        "\n",
        "\n",
        "# There is no need to edit code beyond this point\n",
        "\n",
        "if __name__ == '__main__':\n",
        "    main()"
      ],
      "metadata": {
        "colab": {
          "base_uri": "https://localhost:8080/"
        },
        "id": "wH-q9jd_YSx8",
        "outputId": "143fb9e0-0201-4107-81e0-40c8392f5d84"
      },
      "execution_count": null,
      "outputs": [
        {
          "output_type": "stream",
          "name": "stdout",
          "text": [
            "How old are you? 45\n",
            "You can vote in Peturksbouipo where the voting age is 16.\n",
            "You can vote in Stanlau where the voting age is 25.\n",
            "You cannot vote in Mayengua where the voting age is 48.\n"
          ]
        }
      ]
    },
    {
      "cell_type": "code",
      "source": [
        "\"\"\"\n",
        "PROJECTS/homework_projects/03_if_statements/03_leap_year.md\n",
        "Write a program that reads a year from the user and tells whether a given year is a leap year or not.\n",
        "\n",
        "A leap year (also known as an intercalary year or bissextile year) is a calendar year that contains an additional day (or, in the case of a lunisolar calendar, a month) added to keep the calendar year synchronized with the astronomical year or seasonal year. In the Gregorian calendar, each leap year has 366 days instead of 365, by extending February to 29 days rather than the common 28.\n",
        "\n",
        "In the Gregorian calendar, three criteria must be checked to identify leap years:\n",
        "\n",
        "The given year must be evenly divisible by 4;\n",
        "If the year can also be evenly divided by 100, it is NOT a leap year; unless:\n",
        "The year is also evenly divisible by 400. Then it is a leap year.\n",
        "Your code should use the above criteria to check for a leap year and then print either \"That's a leap year!\" or \"That's not a leap year.\"\n",
        "\"\"\"\n",
        "def main():\n",
        "    # Get the year to check from the user\n",
        "    year = int(input('Please input a year: '))\n",
        "\n",
        "    if year % 4 == 0:  # Checking whether the provided year is evenly divisibly by 4\n",
        "        if year % 100 == 0:  # Checking whether the provided year is evenly divisibly by 100\n",
        "            if year % 400 == 0:  # Checking whether the provided year is evenly divisibly by 400\n",
        "                print(\"That's a leap year!\")\n",
        "            else:  # (Not divisible by 400)\n",
        "                print(\"That's not a leap year.\")\n",
        "        else:  # (Not divisible by 100)\n",
        "            print(\"That's a leap year!\")\n",
        "    else:  # (Not divisible by 4)\n",
        "        print(\"That's not a leap year.\")\n",
        "\n",
        "\n",
        "# There is no need to edit code beyond this point\n",
        "\n",
        "if __name__ == '__main__':\n",
        "    main()"
      ],
      "metadata": {
        "colab": {
          "base_uri": "https://localhost:8080/"
        },
        "id": "M1jyEsb5Y77a",
        "outputId": "048c7198-b19a-47d4-e176-b7bfe032a94e"
      },
      "execution_count": null,
      "outputs": [
        {
          "output_type": "stream",
          "name": "stdout",
          "text": [
            "Please input a year: 1992\n",
            "That's a leap year!\n"
          ]
        }
      ]
    },
    {
      "cell_type": "code",
      "source": [
        "\"\"\"\n",
        "PROJECTS/homework_projects/03_if_statements/04_tall_enough_to_ride.md\n",
        "Write a program which asks the user how tall they are and prints whether or not they're taller than a pre-specified minimum height.\n",
        "\n",
        "In amusement parks (ah, the good old pre-pandemic days...), rollercoasters frequently have minimum height requirements for safety reasons. Assume for now that the minimum height is 50 of whatever height unit you'd like\n",
        "\n",
        "Here's two sample runs (user input is in bold italics):\n",
        "\n",
        "How tall are you? 100\n",
        "\n",
        "You're tall enough to ride!\n",
        "\n",
        "How tall are you? 10\n",
        "\n",
        "You're not tall enough to ride, but maybe next year!\n",
        "\n",
        "(For an extra challenge, write code which will repeatedly ask a user how tall they are and tell them whether or not they're tall enough to ride, until the user doesn't enter a height at all, in which case the program stops. Curious about how to do this? See the function tall_enough_extension() in the solution code!)\n",
        "\"\"\"\n",
        "MINIMUM_HEIGHT: int = 50  # arbitrary units :)\n",
        "\n",
        "def main():\n",
        "    height = float(input(\"How tall are you? \"))\n",
        "\n",
        "    # ANSI escape sequences for bold and italic (italic may not be supported on all terminals)\n",
        "    BOLD_ITALIC = '\\033[1m\\033[3m'  # Bold and Italic\n",
        "    RESET = '\\033[0m'  # Reset the formatting\n",
        "\n",
        "    # Using bold and italic for the user input in output\n",
        "    print(f\"Your height is: {BOLD_ITALIC}{height}{RESET}\")\n",
        "\n",
        "    if height >= MINIMUM_HEIGHT:\n",
        "        print(\"You're tall enough to ride!\")\n",
        "    else:\n",
        "        print(\"You're not tall enough to ride, but maybe next year!\")\n",
        "\n",
        "# There is no need to edit code beyond this point\n",
        "\n",
        "if __name__ == '__main__':\n",
        "    main()\n"
      ],
      "metadata": {
        "colab": {
          "base_uri": "https://localhost:8080/"
        },
        "id": "bZ9Zn7IaZREW",
        "outputId": "5f138152-3edc-484d-b997-0f5e1d4f435f"
      },
      "execution_count": null,
      "outputs": [
        {
          "output_type": "stream",
          "name": "stdout",
          "text": [
            "How tall are you? 100\n",
            "Your height is: \u001b[1m\u001b[3m100.0\u001b[0m\n",
            "You're tall enough to ride!\n"
          ]
        }
      ]
    }
  ]
}