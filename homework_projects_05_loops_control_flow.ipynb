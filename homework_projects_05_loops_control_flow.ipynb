{
  "nbformat": 4,
  "nbformat_minor": 0,
  "metadata": {
    "colab": {
      "provenance": [],
      "authorship_tag": "ABX9TyOYMSbpQXTkyiL6og6acqp/",
      "include_colab_link": true
    },
    "kernelspec": {
      "name": "python3",
      "display_name": "Python 3"
    },
    "language_info": {
      "name": "python"
    }
  },
  "cells": [
    {
      "cell_type": "markdown",
      "metadata": {
        "id": "view-in-github",
        "colab_type": "text"
      },
      "source": [
        "<a href=\"https://colab.research.google.com/github/zahidaraees/Project-4-Assignments/blob/main/homework_projects_05_loops_control_flow.ipynb\" target=\"_parent\"><img src=\"https://colab.research.google.com/assets/colab-badge.svg\" alt=\"Open In Colab\"/></a>"
      ]
    },
    {
      "cell_type": "code",
      "execution_count": 1,
      "metadata": {
        "colab": {
          "base_uri": "https://localhost:8080/"
        },
        "id": "c_PxdLHsfxxv",
        "outputId": "f0ecfa24-b5b7-4e13-fbac-582b7c78f2b0"
      },
      "outputs": [
        {
          "output_type": "stream",
          "name": "stdout",
          "text": [
            "I am thinking of a number between 1 and 99...\n",
            "Enter a guess: 10\n",
            "Your guess is too low\n",
            "\n",
            "Enter a new guess: 100\n",
            "Your guess is too high\n",
            "\n",
            "Enter a new guess: 99\n",
            "Your guess is too high\n",
            "\n",
            "Enter a new guess: 50\n",
            "Your guess is too high\n",
            "\n",
            "Enter a new guess: 1022\n",
            "Your guess is too high\n",
            "\n",
            "Enter a new guess: 20\n",
            "Your guess is too low\n",
            "\n",
            "Enter a new guess: 30\n",
            "Your guess is too low\n",
            "\n",
            "Enter a new guess: 40\n",
            "Your guess is too high\n",
            "\n",
            "Enter a new guess: 60\n",
            "Your guess is too high\n",
            "\n",
            "Enter a new guess: 50\n",
            "Your guess is too high\n",
            "\n",
            "Enter a new guess: 55\n",
            "Your guess is too high\n",
            "\n",
            "Enter a new guess: 45\n",
            "Your guess is too high\n",
            "\n",
            "Enter a new guess: 43\n",
            "Your guess is too high\n",
            "\n",
            "Enter a new guess: 42\n",
            "Your guess is too high\n",
            "\n",
            "Enter a new guess: 41\n",
            "Your guess is too high\n",
            "\n",
            "Enter a new guess: 40\n",
            "Your guess is too high\n",
            "\n",
            "Enter a new guess: 35\n",
            "Your guess is too low\n",
            "\n",
            "Enter a new guess: 38\n",
            "Your guess is too high\n",
            "\n",
            "Enter a new guess: 37\n",
            "Congrats! The number was: 37\n"
          ]
        }
      ],
      "source": [
        "\"\"\"\n",
        "PROJECTS/homework_projects/05_loops_control_flow/00_guess_my_number.md\n",
        "Guess My Number\n",
        "\n",
        "I am thinking of a number between 0 and 99... Enter a guess: 50 Your guess is too high\n",
        "\n",
        "Enter a new number: 25 Your guess is too low\n",
        "\n",
        "Enter a new number: 40 Your guess is too low\n",
        "\n",
        "Enter a new number: 45 Your guess is too low\n",
        "\n",
        "Enter a new number: 48 Congrats! The number was: 48\n",
        "\"\"\"\n",
        "import random\n",
        "\n",
        "def main():\n",
        "    # Generate the secret number at random!\n",
        "    secret_number = random.randint(1, 99)\n",
        "\n",
        "    print(\"I am thinking of a number between 1 and 99...\")\n",
        "\n",
        "    # Get user's guess\n",
        "    guess = int(input(\"Enter a guess: \"))\n",
        "    # True if guess is not equal to secret number\n",
        "    while guess != secret_number:\n",
        "        if guess < secret_number:  # If-statement is True if guess is less than secret number\n",
        "            print(\"Your guess is too low\")\n",
        "        else:\n",
        "            print(\"Your guess is too high\")\n",
        "\n",
        "        print() # Print an empty line to tidy up the console for new guesses\n",
        "        guess = int(input(\"Enter a new guess: \"))  # Get a new guess from the user\n",
        "\n",
        "    print(\"Congrats! The number was: \" + str(secret_number))\n",
        "\n",
        "if __name__ == '__main__':\n",
        "    main()"
      ]
    },
    {
      "cell_type": "code",
      "source": [
        "\"\"\"\n",
        "PROJECTS/homework_projects/05_loops_control_flow/01_fibonacci.md\n",
        "Write a program to print terms in the Fibonacci sequence up to a maximum value.\n",
        "\n",
        "In the 13th century, the Italian mathematician Leonardo Fibonacci, as a way to explain the geometric growth of a population of rabbits, devised a mathematical sequence that now bears his name. The first two terms in this sequence, Fib(0) and Fib(1), are 0 and 1, and every subsequent term is the sum of the preceding two. Thus, the first several terms in the Fibonacci sequence look like this:\n",
        "\n",
        "Fib(0) = 0 Fib(1) = 1 Fib(2) = 1 = 0 + 1 Fib(3) = 2 = 1 + 1 Fib(4) = 3 = 1 + 2 Fib(5) = 5 = 2 + 3\n",
        "\n",
        "Write a program that displays the terms in the Fibonacci sequence, starting with Fib(0) and continuing as long as the terms are less than 10,000 (you should store this value as a constant!). Thus, your program should produce the following sample run:\n",
        "\n",
        "0 1 1 2 3 5 8 13 21 34 55 89 144 233 377 610 987 1597 2584 4181 6765\n",
        "\"\"\"\n",
        "MAX_TERM_VALUE : int = 10000\n",
        "\n",
        "def main():\n",
        "    curr_term = 0  # The 0th Fibonacci Number\n",
        "    next_term = 1  # The 1st Fibonacci Number\n",
        "    while curr_term <= MAX_TERM_VALUE:\n",
        "        print(curr_term)\n",
        "        term_after_next = curr_term + next_term\n",
        "        curr_term = next_term\n",
        "        next_term = term_after_next\n",
        "\n",
        "\n",
        "# There is no need to edit code beyond this point\n",
        "\n",
        "if __name__ == '__main__':\n",
        "    main()\n"
      ],
      "metadata": {
        "colab": {
          "base_uri": "https://localhost:8080/"
        },
        "id": "3j6qucnjg8_i",
        "outputId": "3b302301-c189-430f-eb37-91ee7eca66bd"
      },
      "execution_count": 2,
      "outputs": [
        {
          "output_type": "stream",
          "name": "stdout",
          "text": [
            "0\n",
            "1\n",
            "1\n",
            "2\n",
            "3\n",
            "5\n",
            "8\n",
            "13\n",
            "21\n",
            "34\n",
            "55\n",
            "89\n",
            "144\n",
            "233\n",
            "377\n",
            "610\n",
            "987\n",
            "1597\n",
            "2584\n",
            "4181\n",
            "6765\n"
          ]
        }
      ]
    },
    {
      "cell_type": "code",
      "source": [
        "\"\"\"\n",
        "PROJECTS/homework_projects/05_loops_control_flow/02_print_events.md\n",
        "Write a program that prints the first 20 even numbers. There are several correct approaches, but they all use a loop of some sort. Do no write twenty print statements\n",
        "\n",
        "The first even number is 0:\n",
        "\n",
        "0 2 4 6 8 10 12 14 16 18 20 22 24 26 28 30 32 34 36 38\n",
        "\n",
        "\"\"\"\n",
        "def main():\n",
        "    # This for-loop start at 0 and counts up to 19 (for a total of 20 numbers)\n",
        "    for i in range(20):\n",
        "        print(i * 2)  # Use the 'i' value inside the for-loop\n",
        "\n",
        "# Call the main function when \"run\", no need to edit anything below!\n",
        "if __name__ == \"__main__\":\n",
        "    main()"
      ],
      "metadata": {
        "colab": {
          "base_uri": "https://localhost:8080/"
        },
        "id": "zqPMEJTvh3KJ",
        "outputId": "3070362b-6ec1-4544-d376-2ccc43b18fb3"
      },
      "execution_count": 3,
      "outputs": [
        {
          "output_type": "stream",
          "name": "stdout",
          "text": [
            "0\n",
            "2\n",
            "4\n",
            "6\n",
            "8\n",
            "10\n",
            "12\n",
            "14\n",
            "16\n",
            "18\n",
            "20\n",
            "22\n",
            "24\n",
            "26\n",
            "28\n",
            "30\n",
            "32\n",
            "34\n",
            "36\n",
            "38\n"
          ]
        }
      ]
    },
    {
      "cell_type": "code",
      "source": [
        "\"\"\"\n",
        "PROJECTS/homework_projects/05_loops_control_flow/03_wholesome_machine.md\n",
        "Write a program which prompts the user to type an affirmation of your choice (we'll use \"I am capable of doing anything I put my mind to.\") until they type it correctly. Sometimes, especially in the midst of such uncertain times, we just need to be reminded that we are resilient, capable, and strong; this little Python program may be able to help!\n",
        "\n",
        "Here's a sample run of the program (user input is in blue):\n",
        "\n",
        "Please type the following affirmation: I am capable of doing anything I put my mind to. Hmmm That was not the affirmation. Please type the following affirmation: I am capable of doing anything I put my mind to. I am capable of doing anything I put my mind to. That's right! :)\n",
        "\n",
        "Note that you can call input() with no prompt and it will still wait for a user to type something!\n",
        "\"\"\"\n",
        "AFFIRMATION : str = \"I am capable of doing anything I put my mind to.\"\n",
        "\n",
        "def main():\n",
        "    print(\"Please type the following affirmation: \" + AFFIRMATION)\n",
        "\n",
        "    user_feedback = input()  # Get user's input\n",
        "    while user_feedback != AFFIRMATION:  # While the user's input isn't the affirmation\n",
        "        # Tell the user that they did not type the affirmation correctly\n",
        "        print(\"That was not the affirmation.\")\n",
        "\n",
        "        # Ask the user to type the affirmation again!\n",
        "        print(\"Please type the following affirmation: \" + AFFIRMATION)\n",
        "        user_feedback = input()\n",
        "\n",
        "    print(\"That's right! :)\")\n",
        "\n",
        "\n",
        "# There is no need to edit code beyond this point\n",
        "\n",
        "if __name__ == '__main__':\n",
        "    main()"
      ],
      "metadata": {
        "colab": {
          "base_uri": "https://localhost:8080/"
        },
        "id": "XHq03odAiZOp",
        "outputId": "9751ed76-507b-4f3d-c5dd-5e1bedd068b8"
      },
      "execution_count": 4,
      "outputs": [
        {
          "output_type": "stream",
          "name": "stdout",
          "text": [
            "Please type the following affirmation: I am capable of doing anything I put my mind to.\n",
            "I am capable of doing anything I put my mind to\n",
            "That was not the affirmation.\n",
            "Please type the following affirmation: I am capable of doing anything I put my mind to.\n",
            "I am capable of doing anything I put my mind to.\n",
            "That's right! :)\n"
          ]
        }
      ]
    },
    {
      "cell_type": "code",
      "source": [
        "\"\"\"\n",
        "PROJECTS/homework_projects/05_loops_control_flow/04_liftoff.md\n",
        "Write a program that prints out the calls for a spaceship that is about to launch. Countdown from 10 to 1 and then output Liftoff!\n",
        "\n",
        "Here's a sample run of the program:\n",
        "\n",
        "10 9 8 7 6 5 4 3 2 1 Liftoff!\n",
        "\n",
        "There are many ways to solve this problem. One approach is to use a for loop, and to use the for loop variable i. Recall that i will keep track of how many times the for loop has completed executing its body. As an example this code:\n",
        "\n",
        "for i in range(10): print(i)\n",
        "\n",
        "Will print out the values 0, 1, 2, 3, 4, 5, 6, 7, 8, 9. The values printed in liftoff are 10 minus the number of times the for loop has completed.\n",
        "\n",
        "\"\"\"\n",
        "def main():\n",
        "    for i in range(10): print(i)\n",
        "\n",
        "\n",
        "# This provided line is required at the end of\n",
        "# Python file to call the main() function.\n",
        "if __name__ == '__main__':\n",
        "    main()"
      ],
      "metadata": {
        "colab": {
          "base_uri": "https://localhost:8080/"
        },
        "id": "scD_Ta5Tivql",
        "outputId": "a831adcc-38a6-43f3-a8da-95943054af2d"
      },
      "execution_count": 5,
      "outputs": [
        {
          "output_type": "stream",
          "name": "stdout",
          "text": [
            "0\n",
            "1\n",
            "2\n",
            "3\n",
            "4\n",
            "5\n",
            "6\n",
            "7\n",
            "8\n",
            "9\n"
          ]
        }
      ]
    },
    {
      "cell_type": "code",
      "source": [
        "\"\"\"\n",
        "PROJECTS/homework_projects/05_loops_control_flow/05_double_it.md\n",
        "Write a program that asks a user to enter a number. Your program will then double that number and print out the result. It will repeat that process until the value is 100 or greater.\n",
        "\n",
        "For example if the user enters the number 2 you would then print:\n",
        "\n",
        "4 8 16 32 64 128\n",
        "\n",
        "Note that:\n",
        "\n",
        "2 doubled is 4\n",
        "\n",
        "4 doubled is 8\n",
        "\n",
        "8 doubled is 16\n",
        "\n",
        "and so on.\n",
        "\n",
        "We stop at 128 because that value is greater than 100.\n",
        "\n",
        "Maintain the current number in a variable named curr_value. When you double the number, you should be updating curr_value. Recall that you can double the value of curr_value using a line like:\n",
        "\n",
        "curr_value = curr_value * 2\n",
        "\n",
        "This program should have a while loop and the while loop condition should test if curr_value is less than 100. Thus, your program will have the line:\n",
        "\n",
        "while curr_value < 100:\n",
        "\n",
        "\n",
        "\"\"\"\n",
        "def main():\n",
        "\n",
        "    # It will ask the user to input a number.\n",
        "    curr_value = int(input(\"Enter a number: \"))\n",
        "\n",
        "    # While loop to double the number until it's 100 or greater\n",
        "\n",
        "    while curr_value < 100:\n",
        "        print(curr_value, end=\" \")  # Print the current value followed by a space\n",
        "        curr_value = curr_value * 2  # Double the current value\n",
        "\n",
        "    # It will print the value when it is 100 or greater\n",
        "    print(curr_value)\n",
        "\n",
        "\n",
        "# This provided line is required at the end of\n",
        "# Python file to call the main() function.\n",
        "if __name__ == '__main__':\n",
        "    main()\n"
      ],
      "metadata": {
        "colab": {
          "base_uri": "https://localhost:8080/"
        },
        "id": "yVyNneMijoiV",
        "outputId": "5e699408-3ffa-4636-b56c-cd0c6c12343b"
      },
      "execution_count": 16,
      "outputs": [
        {
          "output_type": "stream",
          "name": "stdout",
          "text": [
            "Enter a number: 2\n",
            "2 4 8 16 32 64 128\n"
          ]
        }
      ]
    }
  ]
}